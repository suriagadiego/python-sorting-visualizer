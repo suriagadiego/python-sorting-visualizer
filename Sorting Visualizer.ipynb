{
 "cells": [
  {
   "cell_type": "code",
   "execution_count": null,
   "metadata": {},
   "outputs": [
    {
     "name": "stdout",
     "output_type": "stream",
     "text": [
      "Algo Selected: Bubble Sort\n",
      "Algo Selected: Bubble Sort\n",
      "Algo Selected: Bubble Sort\n",
      "Algo Selected: Bubble Sort\n",
      "Algo Selected: Bubble Sort\n",
      "Algo Selected: Bubble Sort\n"
     ]
    }
   ],
   "source": [
    "from tkinter import *\n",
    "from tkinter import ttk\n",
    "import random\n",
    "\n",
    "root = Tk()\n",
    "root.title('Sorting Algorithm Visualization')\n",
    "root.maxsize(900,600)\n",
    "root.config(bg = 'black')\n",
    "\n",
    "#variables\n",
    "selected_algo = StringVar()\n",
    "\n",
    "def drawData(data):\n",
    "    canvas.delete(all)\n",
    "    c_height = 380\n",
    "    c_width = 600\n",
    "    x_width = c_width / (len(data)+1)\n",
    "    offset = 30\n",
    "    spacing = 10\n",
    "    normalizedData = [i/max(data) for i in data]\n",
    "    \n",
    "    \n",
    "    for i, height in enumerate(normalizedData):\n",
    "        #top left\n",
    "        x0 = i* x_width + offset + spacing\n",
    "        y0 = c_height - height * 300\n",
    "        #bottom right\n",
    "        x1 = (i + 1) * x_width + offset\n",
    "        y1 = c_height\n",
    "        \n",
    "        canvas.create_rectangle(x0,y0,x1,y1,fill = 'red')\n",
    "        canvas.create_text(x0+2, y0, anchor =SW, text =str(data[i]))\n",
    "        \n",
    "\n",
    "def generate():\n",
    "    print('Algo Selected:', selected_algo.get())\n",
    "    \n",
    "    minVal = int(minEntry.get())\n",
    "    maxVal = int(maxEntry.get())\n",
    "    size = int(sizeEntry.get())\n",
    "     \n",
    "    data = []\n",
    "    for i in range(size):\n",
    "        data.append(random.randrange(minVal, maxVal+1))\n",
    "    drawData(data)\n",
    "\n",
    "UI_frame = Frame(root, width = 600, height = 200, bg = 'grey')\n",
    "UI_frame.grid(row = 0, column = 0, padx = 10, pady = 5)\n",
    "\n",
    "canvas = Canvas(root , width = 600, height = 380, bg = 'white')\n",
    "canvas.grid(row =1, column = 0, padx = 10, pady = 5)\n",
    "\n",
    "#User interface\n",
    "#Row[0]\n",
    "Label(UI_frame, text ='Algorithm: ', bg='grey').grid(row=0, column = 0, padx =5, pady = 5, sticky =W)\n",
    "algoMenu = ttk.Combobox(UI_frame, textvariable = selected_algo, values = ['Bubble Sort', 'Merge Sort'])\n",
    "algoMenu.grid(row=0, column=1, padx=5, pady=5)\n",
    "algoMenu.current(0)\n",
    "Button(UI_frame, text='Generate', command=generate, bg='red').grid(row=0, column=2, padx=5, pady=5)\n",
    "\n",
    "\n",
    "#Row[1]\n",
    "Label(UI_frame, text ='Size: ', bg='grey').grid(row=1, column = 0, padx =5, pady = 5, sticky =W)\n",
    "sizeEntry = Entry(UI_frame)\n",
    "sizeEntry.grid(row=1, column = 1, padx =5, pady = 5, sticky =W)\n",
    "\n",
    "Label(UI_frame, text ='Minimum Value: ', bg='grey').grid(row=1, column = 2, padx =5, pady = 5, sticky =W)\n",
    "minEntry = Entry(UI_frame)\n",
    "minEntry.grid(row=1, column = 3, padx =5, pady = 5, sticky =W)\n",
    "\n",
    "Label(UI_frame, text ='Maximum Value: ', bg='grey').grid(row=1, column = 4, padx =5, pady = 5, sticky =W)\n",
    "maxEntry = Entry(UI_frame)\n",
    "maxEntry.grid(row=1, column = 5, padx =5, pady = 5, sticky =W)\n",
    "\n",
    "\n",
    "root.mainloop()"
   ]
  },
  {
   "cell_type": "code",
   "execution_count": null,
   "metadata": {},
   "outputs": [],
   "source": [
    "\n"
   ]
  },
  {
   "cell_type": "code",
   "execution_count": null,
   "metadata": {},
   "outputs": [],
   "source": []
  }
 ],
 "metadata": {
  "kernelspec": {
   "display_name": "Python 3",
   "language": "python",
   "name": "python3"
  },
  "language_info": {
   "codemirror_mode": {
    "name": "ipython",
    "version": 3
   },
   "file_extension": ".py",
   "mimetype": "text/x-python",
   "name": "python",
   "nbconvert_exporter": "python",
   "pygments_lexer": "ipython3",
   "version": "3.8.3"
  }
 },
 "nbformat": 4,
 "nbformat_minor": 4
}
